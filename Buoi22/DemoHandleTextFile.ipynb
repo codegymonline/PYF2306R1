{
 "cells": [
  {
   "cell_type": "code",
   "execution_count": 7,
   "id": "8f019d4d",
   "metadata": {},
   "outputs": [
    {
     "name": "stdout",
     "output_type": "stream",
     "text": [
      "['Nguyễn Văn Tèo\\n', '11/11/2011\\n', 'Nam\\n', 'Ăn, ngủ, du lịch, xem phim']\n",
      "Nguyễn Văn Tèo\n",
      "11/11/2011\n",
      "Nam\n",
      "Ăn, ngủ, du lịch, xem phim\n"
     ]
    }
   ],
   "source": [
    "myfile = open(\"test1.txt\", \"r\", encoding=\"utf-8\")\n",
    "\n",
    "lines = myfile.readlines()\n",
    "print(lines)\n",
    "for item in lines:\n",
    "    print(item.strip())\n",
    "\n",
    "myfile.close() # Đóng"
   ]
  },
  {
   "cell_type": "code",
   "execution_count": null,
   "id": "190c87c1",
   "metadata": {},
   "outputs": [],
   "source": [
    "\"\"\"\n",
    "r: read (mở chỉ đọc)\n",
    "a: append (mở để thêm)\n",
    "w: write (mở để ghi)\n",
    "\"\"\""
   ]
  },
  {
   "cell_type": "code",
   "execution_count": 8,
   "id": "cdd245d1",
   "metadata": {},
   "outputs": [
    {
     "name": "stdout",
     "output_type": "stream",
     "text": [
      "Nguyễn Văn Tèo\n",
      "11/11/2011\n",
      "Nam\n",
      "Ăn, ngủ, du lịch, xem phim\n"
     ]
    }
   ],
   "source": [
    "myfile = open(\"test1.txt\", \"r\", encoding=\"utf-8\")\n",
    "\n",
    "for item in myfile:\n",
    "    print(item.strip())\n",
    "\n",
    "myfile.close() # Đóng"
   ]
  },
  {
   "cell_type": "code",
   "execution_count": 12,
   "id": "e68b76c7",
   "metadata": {},
   "outputs": [
    {
     "name": "stdout",
     "output_type": "stream",
     "text": [
      "['Nguyễn Văn Tèo\\n', '11/11/2011\\n', 'Nam\\n', 'Ăn, ngủ, du lịch, xem phim']\n",
      "4\n",
      "longest line = 26 characters\n",
      "Ăn, ngủ, du lịch, xem phim\n"
     ]
    }
   ],
   "source": [
    "\"\"\"Tìm dòng có nhiều kí tự nhất\"\"\"\n",
    "myfile = open(\"test1.txt\", \"r\", encoding=\"utf-8\")\n",
    "\n",
    "lines = myfile.readlines() # list []: chỉ số đánh từ 0, 1, ..., len - 1\n",
    "print(lines)\n",
    "print(len(lines))\n",
    "\n",
    "\n",
    "row_index = 0\n",
    "for idx in range(1, len(lines)):\n",
    "    if len(lines[idx]) > len(lines[row_index]):\n",
    "        row_index = idx\n",
    "\n",
    "print(f\"longest line = {len(lines[row_index])} characters\")\n",
    "print(lines[row_index])\n",
    "\n",
    "myfile.close() # Đóng"
   ]
  },
  {
   "cell_type": "code",
   "execution_count": 26,
   "id": "8c6589db",
   "metadata": {},
   "outputs": [
    {
     "name": "stdout",
     "output_type": "stream",
     "text": [
      "['Tèo, ID: 123, 31.500000000000004 hrs, avg: 6.300000000000001 hrs/day\\n', 'Minh, ID: 456, 36.8 hrs, avg: 7.359999999999999 hrs/day\\n', 'Toàn, ID: 789, 39.5 hrs, avg: 7.9 hrs/day\\n']\n"
     ]
    }
   ],
   "source": [
    "'''Đọc nội dung file hours.txt'''\n",
    "\"\"\"\n",
    "f.write(s): ghi xuống file chuỗi\n",
    "f.writeline(s): ghi xuống file mảng/list các chuỗi\n",
    "\"\"\"\n",
    "data = []\n",
    "\n",
    "with open(\"hours.txt\", \"r\", encoding=\"utf-8\") as myfile:\n",
    "    for line in myfile:\n",
    "        mang = line.split()\n",
    "        mon, tue, wed, thu, fri = mang[2:]\n",
    "        total = float(mon) + float(tue) + float(wed) + float(thu) + float(fri)\n",
    "#         print(mang[1], 'ID: ', mang[0], total, 'hours', 'average:', total / 5)\n",
    "        data.append(f\"{mang[1]}, ID: {mang[0]}, {total} hrs, avg: {total/5} hrs/day\\n\")\n",
    "        \n",
    "print(data)\n",
    "\n",
    "with open(\"output.txt\", \"w\", encoding=\"utf-8\") as myfile:\n",
    "    myfile.write(\"EMPLOYEE\\n\")\n",
    "    myfile.writelines(data)"
   ]
  },
  {
   "cell_type": "code",
   "execution_count": 29,
   "id": "2a3d8204",
   "metadata": {},
   "outputs": [
    {
     "name": "stdout",
     "output_type": "stream",
     "text": [
      "{\n",
      "    \"ho_ten\": \"L\\u00ea Li La\",\n",
      "    \"gioi_tinh\": true,\n",
      "    \"luong\": 1999,\n",
      "    \"so_thich\": [\n",
      "        \"\\u0103n\",\n",
      "        \"ng\\u1ee7\",\n",
      "        \"b\\u01a1i\",\n",
      "        \"du l\\u1ecbch\",\n",
      "        \"xem phim\"\n",
      "    ]\n",
      "}\n"
     ]
    }
   ],
   "source": [
    "\"\"\"\n",
    "đổi chuỗi json sang dict thì dùng json.loads(chuoi_json)\n",
    "đổi nội dung file json sang dict: json.load(file)\n",
    "\n",
    "dict ==> chuỗi json: json_str = json.dumps(my_dict)\n",
    "dict ==> file json: json.dump(my_dict, file)\n",
    "\"\"\"\n",
    "import json\n",
    "\n",
    "hocvien = {\n",
    "    \"ho_ten\": \"Lê Li La\",\n",
    "    \"gioi_tinh\": True,\n",
    "    \"luong\": 1999,\n",
    "    \"so_thich\": [\"ăn\", \"ngủ\", 'bơi', \"du lịch\", \"xem phim\"]\n",
    "}\n",
    "\n",
    "hocvien_json = json.dumps(hocvien, indent=4)\n",
    "print(hocvien_json)\n",
    "with open(\"hocvien.json\", \"w\", encoding=\"utf-8\") as myfile:\n",
    "    json.dump(hocvien, myfile, indent=4)"
   ]
  },
  {
   "cell_type": "code",
   "execution_count": 32,
   "id": "f2582f40",
   "metadata": {},
   "outputs": [
    {
     "name": "stdout",
     "output_type": "stream",
     "text": [
      "[{'masp': 1, 'tensp': 'IPhone 15', 'gia': 1190, 'soluong': 43}, {'masp': 3, 'tensp': 'Samsung Galaxy S24', 'gia': 1999, 'soluong': 13}]\n",
      "Mắc nhất {'masp': 3, 'tensp': 'Samsung Galaxy S24', 'gia': 1999, 'soluong': 13}\n"
     ]
    }
   ],
   "source": [
    "\"\"\"Đọc file  sanpham.json\"\"\"\n",
    "import json\n",
    "\n",
    "with open(\"sanpham.json\", \"r\", encoding=\"utf-8\") as myfile:\n",
    "    ds_san_pham = json.load(myfile)\n",
    "    print(ds_san_pham)\n",
    "    \n",
    "    sp_mac_nhat = ds_san_pham[0]\n",
    "    for item in ds_san_pham:\n",
    "        if item[\"gia\"] > sp_mac_nhat[\"gia\"]:\n",
    "            sp_mac_nhat = item\n",
    "            \n",
    "    print(\"Mắc nhất\", sp_mac_nhat)"
   ]
  },
  {
   "cell_type": "code",
   "execution_count": null,
   "id": "24756d54",
   "metadata": {},
   "outputs": [],
   "source": []
  }
 ],
 "metadata": {
  "kernelspec": {
   "display_name": "Python 3 (ipykernel)",
   "language": "python",
   "name": "python3"
  },
  "language_info": {
   "codemirror_mode": {
    "name": "ipython",
    "version": 3
   },
   "file_extension": ".py",
   "mimetype": "text/x-python",
   "name": "python",
   "nbconvert_exporter": "python",
   "pygments_lexer": "ipython3",
   "version": "3.10.7"
  }
 },
 "nbformat": 4,
 "nbformat_minor": 5
}
