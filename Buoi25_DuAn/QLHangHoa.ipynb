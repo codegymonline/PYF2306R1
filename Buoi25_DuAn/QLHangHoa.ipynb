{
 "cells": [
  {
   "cell_type": "code",
   "execution_count": 11,
   "id": "afb50692",
   "metadata": {},
   "outputs": [],
   "source": [
    "from tkinter import *\n",
    "from tkinter import ttk\n",
    "from tkinter import messagebox\n",
    "import json\n",
    "\n",
    "DATA_FILE = \"data_hanghoa.json\"\n",
    "root = Tk()\n",
    "root.title(\"Quản lý Hàng hóa\")\n",
    "root.geometry(\"1000x350\")\n",
    "\n",
    "# Chèn treeview\n",
    "# Ds cột (key)\n",
    "columns=('ma_hh', 'ten_hh', 'gia_ban', 'so_luong', 'loai')\n",
    "tree = ttk.Treeview(root, columns=columns, show='headings')\n",
    "tree.heading('ma_hh', text='Mã hàng hóa')\n",
    "tree.heading('ten_hh', text='Tên hàng hóa')\n",
    "tree.heading('gia_ban', text='Đơn giá bán')\n",
    "tree.heading('so_luong', text='Số lượng')\n",
    "tree.heading('loai', text='Chủng loại')\n",
    "tree.pack()\n",
    "\n",
    "def lay_danh_sach_hang_hoa_tu_file(mytreeview):\n",
    "    with open(DATA_FILE, \"r\", encoding=\"utf-8\") as myfile:\n",
    "        data = json.load(myfile)\n",
    "        \n",
    "        for item in data:\n",
    "            tree.insert(\n",
    "                parent='', index='end',\n",
    "                values=(item['ma_hh'], item['ten_hh'], item['gia_ban'], item['so_luong'], item['loai'])\n",
    "            )\n",
    "\n",
    "# Lấy danh sách hàng hóa lúc form chạy\n",
    "lay_danh_sach_hang_hoa_tu_file(tree)\n",
    "root.mainloop()"
   ]
  },
  {
   "cell_type": "code",
   "execution_count": null,
   "id": "afbec392",
   "metadata": {},
   "outputs": [],
   "source": []
  },
  {
   "cell_type": "code",
   "execution_count": null,
   "id": "6c1a9e80",
   "metadata": {},
   "outputs": [],
   "source": []
  }
 ],
 "metadata": {
  "kernelspec": {
   "display_name": "Python 3 (ipykernel)",
   "language": "python",
   "name": "python3"
  },
  "language_info": {
   "codemirror_mode": {
    "name": "ipython",
    "version": 3
   },
   "file_extension": ".py",
   "mimetype": "text/x-python",
   "name": "python",
   "nbconvert_exporter": "python",
   "pygments_lexer": "ipython3",
   "version": "3.10.7"
  }
 },
 "nbformat": 4,
 "nbformat_minor": 5
}
