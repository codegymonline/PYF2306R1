{
 "cells": [
  {
   "cell_type": "code",
   "execution_count": 7,
   "id": "11442430",
   "metadata": {},
   "outputs": [
    {
     "name": "stdout",
     "output_type": "stream",
     "text": [
      "Duy\n",
      "Đào\n",
      "Mận\n",
      "Vinh\n",
      "Ly\n",
      "\n",
      "0 Duy\n",
      "1 Đào\n",
      "2 Mận\n",
      "3 Vinh\n",
      "4 Ly\n"
     ]
    }
   ],
   "source": [
    "ds_ten = [\"Duy\", \"Đào\", \"Mận\", \"Vinh\", \"Ly\"]\n",
    "for item in ds_ten:\n",
    "    print(item)\n",
    "\n",
    "print()\n",
    "\n",
    "for index in range(0, len(ds_ten)):\n",
    "    print(index, ds_ten[index])"
   ]
  },
  {
   "cell_type": "code",
   "execution_count": 11,
   "id": "69378572",
   "metadata": {},
   "outputs": [
    {
     "name": "stdout",
     "output_type": "stream",
     "text": [
      "1\n",
      "element =  2\n",
      "2\n",
      "element =  3\n",
      "3\n",
      "element =  4\n",
      "4\n",
      "element =  5\n",
      "5\n",
      "element =  6\n",
      "6\n",
      "element =  7\n",
      "7\n",
      "element =  8\n",
      "8\n",
      "element =  9\n",
      "9\n",
      "element =  10\n",
      "10\n"
     ]
    },
    {
     "ename": "IndexError",
     "evalue": "list index out of range",
     "output_type": "error",
     "traceback": [
      "\u001b[1;31m---------------------------------------------------------------------------\u001b[0m",
      "\u001b[1;31mIndexError\u001b[0m                                Traceback (most recent call last)",
      "Cell \u001b[1;32mIn[11], line 5\u001b[0m\n\u001b[0;32m      3\u001b[0m \u001b[38;5;28;01mfor\u001b[39;00m element \u001b[38;5;129;01min\u001b[39;00m array:\n\u001b[0;32m      4\u001b[0m     \u001b[38;5;28mprint\u001b[39m(element)\n\u001b[1;32m----> 5\u001b[0m     \u001b[38;5;28mprint\u001b[39m(\u001b[38;5;124m\"\u001b[39m\u001b[38;5;124melement = \u001b[39m\u001b[38;5;124m\"\u001b[39m, \u001b[43marray\u001b[49m\u001b[43m[\u001b[49m\u001b[43melement\u001b[49m\u001b[43m]\u001b[49m)\n",
      "\u001b[1;31mIndexError\u001b[0m: list index out of range"
     ]
    }
   ],
   "source": [
    "array = [1, 2, 3, 4, 5, 6, 7, 8, 9, 10]\n",
    "\n",
    "for element in array:\n",
    "    print(\"element = \", array[element])"
   ]
  },
  {
   "cell_type": "code",
   "execution_count": 13,
   "id": "a3189ab7",
   "metadata": {},
   "outputs": [
    {
     "ename": "Terminator",
     "evalue": "",
     "output_type": "error",
     "traceback": [
      "\u001b[1;31m---------------------------------------------------------------------------\u001b[0m",
      "\u001b[1;31mTerminator\u001b[0m                                Traceback (most recent call last)",
      "Cell \u001b[1;32mIn[13], line 29\u001b[0m\n\u001b[0;32m     26\u001b[0m \u001b[38;5;66;03m# Xây dựng hàm để tạo và thiết đặt vị trí ban\u001b[39;00m\n\u001b[0;32m     27\u001b[0m \u001b[38;5;66;03m# đầu, màu cho các con rùa và lưu vào list\u001b[39;00m\n\u001b[0;32m     28\u001b[0m \u001b[38;5;28;01mfor\u001b[39;00m turtle \u001b[38;5;129;01min\u001b[39;00m \u001b[38;5;28mrange\u001b[39m(\u001b[38;5;241m0\u001b[39m, \u001b[38;5;241m6\u001b[39m):\n\u001b[1;32m---> 29\u001b[0m     turtles \u001b[38;5;241m=\u001b[39m \u001b[43mt\u001b[49m\u001b[38;5;241;43m.\u001b[39;49m\u001b[43mTurtle\u001b[49m\u001b[43m(\u001b[49m\u001b[43mshape\u001b[49m\u001b[38;5;241;43m=\u001b[39;49m\u001b[38;5;124;43m\"\u001b[39;49m\u001b[38;5;124;43mturtle\u001b[39;49m\u001b[38;5;124;43m\"\u001b[39;49m\u001b[43m)\u001b[49m\n\u001b[0;32m     30\u001b[0m     turtles\u001b[38;5;241m.\u001b[39mpenup()\n\u001b[0;32m     31\u001b[0m     \u001b[38;5;66;03m# Di chuyển rùa về vị trí ban đầu,\u001b[39;00m\n\u001b[0;32m     32\u001b[0m     \u001b[38;5;66;03m# bên trái cùng của đường đua\u001b[39;00m\n",
      "File \u001b[1;32m~\\AppData\\Local\\Programs\\Python\\Python310\\lib\\turtle.py:3815\u001b[0m, in \u001b[0;36mTurtle.__init__\u001b[1;34m(self, shape, undobuffersize, visible)\u001b[0m\n\u001b[0;32m   3813\u001b[0m \u001b[38;5;28;01mif\u001b[39;00m Turtle\u001b[38;5;241m.\u001b[39m_screen \u001b[38;5;129;01mis\u001b[39;00m \u001b[38;5;28;01mNone\u001b[39;00m:\n\u001b[0;32m   3814\u001b[0m     Turtle\u001b[38;5;241m.\u001b[39m_screen \u001b[38;5;241m=\u001b[39m Screen()\n\u001b[1;32m-> 3815\u001b[0m \u001b[43mRawTurtle\u001b[49m\u001b[38;5;241;43m.\u001b[39;49m\u001b[38;5;21;43m__init__\u001b[39;49m\u001b[43m(\u001b[49m\u001b[38;5;28;43mself\u001b[39;49m\u001b[43m,\u001b[49m\u001b[43m \u001b[49m\u001b[43mTurtle\u001b[49m\u001b[38;5;241;43m.\u001b[39;49m\u001b[43m_screen\u001b[49m\u001b[43m,\u001b[49m\n\u001b[0;32m   3816\u001b[0m \u001b[43m                   \u001b[49m\u001b[43mshape\u001b[49m\u001b[38;5;241;43m=\u001b[39;49m\u001b[43mshape\u001b[49m\u001b[43m,\u001b[49m\n\u001b[0;32m   3817\u001b[0m \u001b[43m                   \u001b[49m\u001b[43mundobuffersize\u001b[49m\u001b[38;5;241;43m=\u001b[39;49m\u001b[43mundobuffersize\u001b[49m\u001b[43m,\u001b[49m\n\u001b[0;32m   3818\u001b[0m \u001b[43m                   \u001b[49m\u001b[43mvisible\u001b[49m\u001b[38;5;241;43m=\u001b[39;49m\u001b[43mvisible\u001b[49m\u001b[43m)\u001b[49m\n",
      "File \u001b[1;32m~\\AppData\\Local\\Programs\\Python\\Python310\\lib\\turtle.py:2558\u001b[0m, in \u001b[0;36mRawTurtle.__init__\u001b[1;34m(self, canvas, shape, undobuffersize, visible)\u001b[0m\n\u001b[0;32m   2556\u001b[0m \u001b[38;5;28mself\u001b[39m\u001b[38;5;241m.\u001b[39m_undobuffersize \u001b[38;5;241m=\u001b[39m undobuffersize\n\u001b[0;32m   2557\u001b[0m \u001b[38;5;28mself\u001b[39m\u001b[38;5;241m.\u001b[39mundobuffer \u001b[38;5;241m=\u001b[39m Tbuffer(undobuffersize)\n\u001b[1;32m-> 2558\u001b[0m \u001b[38;5;28;43mself\u001b[39;49m\u001b[38;5;241;43m.\u001b[39;49m\u001b[43m_update\u001b[49m\u001b[43m(\u001b[49m\u001b[43m)\u001b[49m\n",
      "File \u001b[1;32m~\\AppData\\Local\\Programs\\Python\\Python310\\lib\\turtle.py:2661\u001b[0m, in \u001b[0;36mRawTurtle._update\u001b[1;34m(self)\u001b[0m\n\u001b[0;32m   2659\u001b[0m     \u001b[38;5;28;01mreturn\u001b[39;00m\n\u001b[0;32m   2660\u001b[0m \u001b[38;5;28;01melif\u001b[39;00m screen\u001b[38;5;241m.\u001b[39m_tracing \u001b[38;5;241m==\u001b[39m \u001b[38;5;241m1\u001b[39m:\n\u001b[1;32m-> 2661\u001b[0m     \u001b[38;5;28;43mself\u001b[39;49m\u001b[38;5;241;43m.\u001b[39;49m\u001b[43m_update_data\u001b[49m\u001b[43m(\u001b[49m\u001b[43m)\u001b[49m\n\u001b[0;32m   2662\u001b[0m     \u001b[38;5;28mself\u001b[39m\u001b[38;5;241m.\u001b[39m_drawturtle()\n\u001b[0;32m   2663\u001b[0m     screen\u001b[38;5;241m.\u001b[39m_update()                  \u001b[38;5;66;03m# TurtleScreenBase\u001b[39;00m\n",
      "File \u001b[1;32m~\\AppData\\Local\\Programs\\Python\\Python310\\lib\\turtle.py:2647\u001b[0m, in \u001b[0;36mRawTurtle._update_data\u001b[1;34m(self)\u001b[0m\n\u001b[0;32m   2646\u001b[0m \u001b[38;5;28;01mdef\u001b[39;00m \u001b[38;5;21m_update_data\u001b[39m(\u001b[38;5;28mself\u001b[39m):\n\u001b[1;32m-> 2647\u001b[0m     \u001b[38;5;28;43mself\u001b[39;49m\u001b[38;5;241;43m.\u001b[39;49m\u001b[43mscreen\u001b[49m\u001b[38;5;241;43m.\u001b[39;49m\u001b[43m_incrementudc\u001b[49m\u001b[43m(\u001b[49m\u001b[43m)\u001b[49m\n\u001b[0;32m   2648\u001b[0m     \u001b[38;5;28;01mif\u001b[39;00m \u001b[38;5;28mself\u001b[39m\u001b[38;5;241m.\u001b[39mscreen\u001b[38;5;241m.\u001b[39m_updatecounter \u001b[38;5;241m!=\u001b[39m \u001b[38;5;241m0\u001b[39m:\n\u001b[0;32m   2649\u001b[0m         \u001b[38;5;28;01mreturn\u001b[39;00m\n",
      "File \u001b[1;32m~\\AppData\\Local\\Programs\\Python\\Python310\\lib\\turtle.py:1293\u001b[0m, in \u001b[0;36mTurtleScreen._incrementudc\u001b[1;34m(self)\u001b[0m\n\u001b[0;32m   1291\u001b[0m \u001b[38;5;28;01mif\u001b[39;00m \u001b[38;5;129;01mnot\u001b[39;00m TurtleScreen\u001b[38;5;241m.\u001b[39m_RUNNING:\n\u001b[0;32m   1292\u001b[0m     TurtleScreen\u001b[38;5;241m.\u001b[39m_RUNNING \u001b[38;5;241m=\u001b[39m \u001b[38;5;28;01mTrue\u001b[39;00m\n\u001b[1;32m-> 1293\u001b[0m     \u001b[38;5;28;01mraise\u001b[39;00m Terminator\n\u001b[0;32m   1294\u001b[0m \u001b[38;5;28;01mif\u001b[39;00m \u001b[38;5;28mself\u001b[39m\u001b[38;5;241m.\u001b[39m_tracing \u001b[38;5;241m>\u001b[39m \u001b[38;5;241m0\u001b[39m:\n\u001b[0;32m   1295\u001b[0m     \u001b[38;5;28mself\u001b[39m\u001b[38;5;241m.\u001b[39m_updatecounter \u001b[38;5;241m+\u001b[39m\u001b[38;5;241m=\u001b[39m \u001b[38;5;241m1\u001b[39m\n",
      "\u001b[1;31mTerminator\u001b[0m: "
     ]
    }
   ],
   "source": [
    "import turtle as t\n",
    "import random\n",
    "\n",
    "# Tạo và quy định dài rộng của đường đua\n",
    "# và các tham số\n",
    "screen = t.Screen()\n",
    "screen.setup(height=500, width=600)\n",
    "# Hiển thị cửa sổ cho phép người dùng đoán\n",
    "# con rùa màu nào thắng cuộc\n",
    "guess = screen.textinput(prompt=\"Dự đoán con rùa nào chiến thắng?\", title=\"Nhập vào màu rùa (đỏ, nâu, xanh dương, xanh lá cây, cam, hồng)\")\n",
    "# List lưu lại màu của các con rùa\n",
    "colors = [\"red\", \"brown\", \"blue\", \"green\", \"orange\", \"pink\"]\n",
    "# Vị trí ban đầu theo trục y của các con rùa\n",
    "# Theo trục x = -250, cách vị trí 0,0 250 về bên trái\n",
    "y_position = [0, -30, 30, -60, 60, 90]\n",
    "# List lưu lại vận tốc của các con rùa\n",
    "# các giá trị này sẽ được chọn một cách ngẫu nhiên\n",
    "# cho các con rùa khi chạy\n",
    "turtle_speed = [10, 15, 20, 25, 30, 5]\n",
    "\n",
    "# Tạo một list để lưu các con rùa\n",
    "all_turtles = []\n",
    "run = True\n",
    "\n",
    "\n",
    "# Xây dựng hàm để tạo và thiết đặt vị trí ban\n",
    "# đầu, màu cho các con rùa và lưu vào list\n",
    "for turtle in range(0, 6):\n",
    "    turtles = t.Turtle(shape=\"turtle\")\n",
    "    turtles.penup()\n",
    "    # Di chuyển rùa về vị trí ban đầu,\n",
    "    # bên trái cùng của đường đua\n",
    "    turtles.goto(x=-250, y=y_position[turtle])\n",
    "    # Màu của rùa\n",
    "    turtles.color(colors[turtle])\n",
    "    # Lưu vào list\n",
    "    all_turtles.append(turtles)\n",
    "    \n",
    "# Xây dựng hàm di chuyển về đích của\n",
    "# mỗi con rùa, khoảng cách di chuyển được\n",
    "# chọn ngẫu nhiên trong các giá trị\n",
    "# được lưu trong list phía trên\n",
    "def random_walk(turtles):\n",
    "    global run\n",
    "    for turtle in turtles:\n",
    "        turtle.forward(random.choice(turtle_speed))\n",
    "        # Kiểm tra điều kiện cán đích\n",
    "        # Khi 1 con cán đích thì dừng lại\n",
    "        if turtle.xcor() > 250:\n",
    "            run = False\n",
    "\n",
    "            \n",
    "while run:\n",
    "    random_walk(all_turtles)\n",
    "\n",
    "# Chương trình kết thúc khi click\n",
    "# chuột lên màn hình\n",
    "screen.exitonclick()"
   ]
  },
  {
   "cell_type": "code",
   "execution_count": 9,
   "id": "848b21ad",
   "metadata": {},
   "outputs": [
    {
     "name": "stdout",
     "output_type": "stream",
     "text": [
      "[123, 34, 22, 11, 2, -9, -78]\n",
      "123 34\n"
     ]
    }
   ],
   "source": [
    "\"\"\"\n",
    "Khởi  tạo một list chứa các số cho trước. Tìm hai số lớn nhất của list vừa tạo được\n",
    "\n",
    "\"\"\"\n",
    "arr = [2, -9, 11, 22, 34, -78, 123]\n",
    "\n",
    "# arr.sort() #Sắp tăng dần\n",
    "# print(arr)\n",
    "# print(arr[-1], arr[-2])\n",
    "\n",
    "arr.sort(reverse=True)\n",
    "print(arr)\n",
    "print(arr[0], arr[1])"
   ]
  },
  {
   "cell_type": "code",
   "execution_count": 12,
   "id": "093442c5",
   "metadata": {},
   "outputs": [
    {
     "name": "stdout",
     "output_type": "stream",
     "text": [
      "apple\n",
      "banana\n",
      "['cherry', 'strawberry', 'raspberry']\n"
     ]
    }
   ],
   "source": [
    "fruits = (\"apple\", \"banana\", \"cherry\", \"strawberry\", \"raspberry\")\n",
    "(green, yello, *red) = fruits\n",
    "print(green)\n",
    "print(yello)\n",
    "print(red)"
   ]
  },
  {
   "cell_type": "code",
   "execution_count": 21,
   "id": "569722ec",
   "metadata": {},
   "outputs": [
    {
     "name": "stdout",
     "output_type": "stream",
     "text": [
      "[29, 29, 26, 23, 23, 23, 21, 20, 19.5, 19.5, 19.5, 18.9, 13.5]\n",
      "Phổ điểm:  {29: 2, 26: 1, 23: 3, 21: 1, 20: 1, 19.5: 3, 18.9: 1, 13.5: 1}\n",
      "[29, 26, 23, 21, 20, 19.5, 18.9, 13.5]\n",
      "Diem chuan: 19.5 lay duoc: 11 ban\n"
     ]
    }
   ],
   "source": [
    "\"\"\"Xác định điểm chuẩn của ngành XYZ lấy 10 bạn\n",
    "Input: [20, 19, 23, 13.5, 23, 29, 19.5, 21, 18.9, 19.9, 23, 26, 29]\n",
    "B1: Sắp mảng từ cao xuống thấp\n",
    "B2: Xác định điểm hạ dần cho tới khi đủ chỉ tiêu\n",
    "\"\"\"\n",
    "mang_diem = [20, 19.5, 23, 13.5, 23, 29, 19.5, 21, 18.9, 19.5, 23, 26, 29]\n",
    "mang_diem.sort(reverse=True)\n",
    "print(mang_diem)\n",
    "\n",
    "pho_diem = {} # {29: 3, 26: 2, 20: 1}\n",
    "for diem in mang_diem:\n",
    "    if diem not in pho_diem:\n",
    "        pho_diem[diem] = mang_diem.count(diem)\n",
    "\n",
    "print('Phổ điểm: ', pho_diem)\n",
    "\n",
    "dem = 0\n",
    "diem_chuan = 0\n",
    "SO_LUONG_CAN_LAY = 10\n",
    "MAXIMUM = 1.2 # Toi da vượt 20%\n",
    "\n",
    "#while dem < SO_LUONG_CAN_LAY:\n",
    "mang = list(pho_diem.keys())\n",
    "print(mang)\n",
    "for item in mang:\n",
    "    if dem < SO_LUONG_CAN_LAY:\n",
    "        if dem +  pho_diem[item] / SO_LUONG_CAN_LAY <= MAXIMUM:\n",
    "            dem += pho_diem[item]\n",
    "            diem_chuan = item\n",
    "        else:\n",
    "            break\n",
    "    else:\n",
    "        break\n",
    "print('Diem chuan:', diem_chuan, 'lay duoc:', dem, 'ban')\n",
    "    "
   ]
  },
  {
   "cell_type": "code",
   "execution_count": null,
   "id": "cb81cf2e",
   "metadata": {},
   "outputs": [],
   "source": []
  }
 ],
 "metadata": {
  "kernelspec": {
   "display_name": "Python 3 (ipykernel)",
   "language": "python",
   "name": "python3"
  },
  "language_info": {
   "codemirror_mode": {
    "name": "ipython",
    "version": 3
   },
   "file_extension": ".py",
   "mimetype": "text/x-python",
   "name": "python",
   "nbconvert_exporter": "python",
   "pygments_lexer": "ipython3",
   "version": "3.10.7"
  }
 },
 "nbformat": 4,
 "nbformat_minor": 5
}
