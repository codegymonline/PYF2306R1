{
 "cells": [
  {
   "cell_type": "code",
   "execution_count": 10,
   "id": "cc1ca431",
   "metadata": {},
   "outputs": [
    {
     "name": "stdout",
     "output_type": "stream",
     "text": [
      "1780228948400\n",
      "Before call x = 7\n",
      "Begin: 7\n",
      "<class 'int'>\n",
      "1780228948400\n",
      "End: 8\n",
      "After call x = 7\n",
      "1780228948400\n",
      "\n",
      "Before call y = ['7']\n",
      "Begin: ['7']\n",
      "<class 'list'>\n",
      "1778169760512\n",
      "End: ['7', 'Hello']\n",
      "After call y = ['7']\n"
     ]
    }
   ],
   "source": [
    "def thayDoi(n):\n",
    "    print(\"Begin:\", n)\n",
    "    print(type(n))\n",
    "    print(id(n))\n",
    "    if isinstance(n, int):\n",
    "        n = n + 1\n",
    "    elif isinstance(n, list):\n",
    "        n = n + [\"Hello\"]\n",
    "    print(\"End:\", n)\n",
    "    \n",
    "# Demo\n",
    "x = 7\n",
    "print(id(x))\n",
    "print(\"Before call x =\", x)\n",
    "thayDoi(x)\n",
    "print(\"After call x =\", x)\n",
    "print(id(x))\n",
    "\n",
    "print()\n",
    "y = [\"7\"]\n",
    "print(\"Before call y =\", y)\n",
    "thayDoi(y)\n",
    "print(\"After call y =\", y)"
   ]
  },
  {
   "cell_type": "code",
   "execution_count": 22,
   "id": "5bad224b",
   "metadata": {},
   "outputs": [
    {
     "name": "stdout",
     "output_type": "stream",
     "text": [
      "GT nhỏ nhất là: -9\n",
      "GT nhỏ nhất là: b\n",
      "GT nhỏ nhất là: None\n",
      "GT nhỏ nhất là: None\n"
     ]
    }
   ],
   "source": [
    "\"\"\"\n",
    "Viết hàm tìm giá trị nhỏ nhất trong 1 mảng cho trước\n",
    "Input: mảng\n",
    "Output: giá trị nhỏ nhất\n",
    "VD: mang = [11, 2, 23, -2, 6] ==> -2\n",
    "\"\"\"\n",
    "def get_min_value(arr):\n",
    "    # Nếu ko phải kiểu chuỗi và ko phải kiểu mảng thì trả về None\n",
    "    if not isinstance(arr, str) and not isinstance(arr, list):\n",
    "        return None\n",
    "    \n",
    "    if len(arr) == 0:\n",
    "        return None\n",
    "    \n",
    "    # Hợp lệ\n",
    "    result = arr[0] # Tạm gán giá trị đầu tiên là nhỏ nhất\n",
    "\n",
    "    for element in arr:\n",
    "        if element < result:\n",
    "            result = element\n",
    "\n",
    "    return result\n",
    "\n",
    "#Demo\n",
    "A = [4, -9, 12, 7,2, -6.7]\n",
    "print(\"GT nhỏ nhất là:\", get_min_value(A))\n",
    "print(\"GT nhỏ nhất là:\", get_min_value(\"xrcb\"))\n",
    "print(\"GT nhỏ nhất là:\", get_min_value([]))\n",
    "print(\"GT nhỏ nhất là:\", get_min_value(111))"
   ]
  },
  {
   "cell_type": "code",
   "execution_count": null,
   "id": "065cd38b",
   "metadata": {},
   "outputs": [],
   "source": [
    "\"\"\"\n",
    "2/ Viết hàm tính tổng các số chẵn trong mảng\n",
    "VD: mang = [2, 3, 4, 5, 6, 7, 8, 2]\n",
    "KQ: 2 + 4 + 6 + 8 + 2 = 22\n",
    "\"\"\"\n",
    "def tinh_tong(mang):\n",
    "    "
   ]
  }
 ],
 "metadata": {
  "kernelspec": {
   "display_name": "Python 3 (ipykernel)",
   "language": "python",
   "name": "python3"
  },
  "language_info": {
   "codemirror_mode": {
    "name": "ipython",
    "version": 3
   },
   "file_extension": ".py",
   "mimetype": "text/x-python",
   "name": "python",
   "nbconvert_exporter": "python",
   "pygments_lexer": "ipython3",
   "version": "3.10.7"
  }
 },
 "nbformat": 4,
 "nbformat_minor": 5
}
