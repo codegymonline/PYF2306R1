{
 "cells": [
  {
   "cell_type": "code",
   "execution_count": 2,
   "id": "5f42f9fd",
   "metadata": {},
   "outputs": [
    {
     "name": "stdout",
     "output_type": "stream",
     "text": [
      "6256\n",
      "2318239\n"
     ]
    }
   ],
   "source": [
    "\"\"\"\n",
    "Định nghĩa hàm tính tổng lập phương các số nguyên từ [a, b]\n",
    "VD: 10,13 ==> 10^3 + 11^3 + 12^3 + 13^3\n",
    "\"\"\"\n",
    "def tinhTongLapPhuong(start, end):\n",
    "    sum = 0\n",
    "    \n",
    "    for i in range(start, end + 1):\n",
    "        sum += i**3\n",
    "        \n",
    "    return sum\n",
    "\n",
    "# Demo\n",
    "print(tinhTongLapPhuong(10, 13))\n",
    "print(tinhTongLapPhuong(22, 55))"
   ]
  },
  {
   "cell_type": "code",
   "execution_count": 5,
   "id": "676b0df1",
   "metadata": {},
   "outputs": [
    {
     "name": "stdout",
     "output_type": "stream",
     "text": [
      "Hello, world!\n",
      "Hello, world!\n",
      "Hello, world!\n",
      "Hello, world!\n",
      "Hello, world!\n",
      "Hello, world!\n",
      "Hello, world!\n",
      "Hello, world!\n",
      "Hello, world!\n",
      "Hello, world!\n",
      "\n",
      "Hello, world!\n",
      "Hello, world!\n",
      "Hello, world!\n"
     ]
    }
   ],
   "source": [
    "'''Viết hàm in ra n câu chào \"Hello world!\" '''\n",
    "def sayHello(n):\n",
    "    for i in range(1, n+1):\n",
    "        print(\"Hello, world!\")\n",
    "    \n",
    "        \n",
    "sayHello(10)\n",
    "print()\n",
    "sayHello(3)"
   ]
  },
  {
   "cell_type": "code",
   "execution_count": 9,
   "id": "74b76c04",
   "metadata": {},
   "outputs": [
    {
     "name": "stdout",
     "output_type": "stream",
     "text": [
      "Hello Tèo\n",
      "Hello 1111\n",
      "Hello [1, 2, 3, 4]\n",
      "Hello True\n"
     ]
    }
   ],
   "source": [
    "def sayHelloByName(name: str):\n",
    "    print(f\"Hello {name}\")\n",
    "    \n",
    "sayHelloByName('Tèo')\n",
    "sayHelloByName(1111)\n",
    "sayHelloByName([1,2,3,4])\n",
    "sayHelloByName(True)"
   ]
  },
  {
   "cell_type": "code",
   "execution_count": 18,
   "id": "2d628fbe",
   "metadata": {},
   "outputs": [
    {
     "name": "stdout",
     "output_type": "stream",
     "text": [
      "13\n",
      "17\n",
      "65\n",
      "136\n"
     ]
    }
   ],
   "source": [
    "\"\"\"DEMO Hàm Tham số mặc định (default parameter)\n",
    "VD: f(a,b,c) = a ** b + c\n",
    "\"\"\"\n",
    "\n",
    "def tinhGiaTri(a: float, b: float = 3, c: float = 1):\n",
    "    return a ** b + c\n",
    "\n",
    "# gọi hàm\n",
    "print(tinhGiaTri(2,3,5))\n",
    "print(tinhGiaTri(2,4)) #a = 2, b = 4, c = 1\n",
    "print(tinhGiaTri(4)) # a = 4, b = 3, c = 1\n",
    "\n",
    "print(tinhGiaTri(c=11, a=5))"
   ]
  },
  {
   "cell_type": "code",
   "execution_count": 19,
   "id": "dce57341",
   "metadata": {},
   "outputs": [
    {
     "name": "stdout",
     "output_type": "stream",
     "text": [
      "145\n",
      "123\n"
     ]
    }
   ],
   "source": [
    "\"\"\"\n",
    "Lambda là hàm dạng nặc danh (anonymous),\n",
    "có giá trị trả về,\n",
    "chứa phần định nghĩa hàm ngay cùng 1 dòng\n",
    "\"\"\"\n",
    "# DN hàm lamda tính bình phương\n",
    "binh_phuong = lambda x, y : x ** 2 + y\n",
    "\n",
    "print(binh_phuong(12, 1))\n",
    "print(binh_phuong(11, 2))"
   ]
  },
  {
   "cell_type": "code",
   "execution_count": 21,
   "id": "84943608",
   "metadata": {},
   "outputs": [
    {
     "data": {
      "text/plain": [
       "124"
      ]
     },
     "execution_count": 21,
     "metadata": {},
     "output_type": "execute_result"
    }
   ],
   "source": [
    "binh_phuong(11, 3)"
   ]
  },
  {
   "cell_type": "code",
   "execution_count": 24,
   "id": "25125f48",
   "metadata": {},
   "outputs": [
    {
     "name": "stdout",
     "output_type": "stream",
     "text": [
      "[5, 9, 9.1, 10]\n"
     ]
    }
   ],
   "source": [
    "'''\n",
    "Lambda thường kết hợp filter để lọc lấy danh sách thỏa mãn điều của hàm lambda\n",
    "filter(bieu_thuc_lambda, tap_hop)\n",
    "'''\n",
    "mang_diem = [5, 9, 4.5, 9.1, 10, 3.3]\n",
    "# Lọc lấy danh sách điểm >= 5\n",
    "diem_lon_hon_5 = list(filter(lambda x : x >= 5, mang_diem))\n",
    "print(diem_lon_hon_5)"
   ]
  },
  {
   "cell_type": "code",
   "execution_count": 26,
   "id": "412dd88a",
   "metadata": {},
   "outputs": [
    {
     "name": "stdout",
     "output_type": "stream",
     "text": [
      "[1.2100000000000002, 16.81, 5.289999999999999, 32.49, 98.01]\n"
     ]
    }
   ],
   "source": [
    "mang = [1.1, 4.1, 2.3, 5.7, 9.9]\n",
    "\n",
    "mang_bp = list(map(lambda x: x ** 2, mang))\n",
    "print(mang_bp)"
   ]
  },
  {
   "cell_type": "code",
   "execution_count": null,
   "id": "ee17cb56",
   "metadata": {},
   "outputs": [],
   "source": [
    "#from turtle import Turtle\n",
    "import turtle\n",
    "\n",
    "t = turtle.Turtle()\n",
    "t.hideturtle()\n",
    "t.pencolor('red')\n",
    "\n",
    "def square_draw(w):\n",
    "    for i in range(4):\n",
    "        t.forward(w)\n",
    "        t.right(90)\n",
    "    turtle.done()\n",
    "    \n",
    "square_draw(200)\n"
   ]
  },
  {
   "cell_type": "code",
   "execution_count": 2,
   "id": "aeb68f2c",
   "metadata": {},
   "outputs": [
    {
     "name": "stdout",
     "output_type": "stream",
     "text": [
      "Enter the length of the side of the Square: 100\n"
     ]
    },
    {
     "ename": "KeyboardInterrupt",
     "evalue": "",
     "output_type": "error",
     "traceback": [
      "\u001b[1;31m---------------------------------------------------------------------------\u001b[0m",
      "\u001b[1;31mKeyboardInterrupt\u001b[0m                         Traceback (most recent call last)",
      "Cell \u001b[1;32mIn[2], line 24\u001b[0m\n\u001b[0;32m     21\u001b[0m t\u001b[38;5;241m.\u001b[39mforward(s) \u001b[38;5;66;03m# Forward turtle by s units\u001b[39;00m\n\u001b[0;32m     22\u001b[0m t\u001b[38;5;241m.\u001b[39mleft(\u001b[38;5;241m90\u001b[39m) \u001b[38;5;66;03m# Turn turtle by 90 degree\u001b[39;00m\n\u001b[1;32m---> 24\u001b[0m \u001b[43mturtle\u001b[49m\u001b[38;5;241;43m.\u001b[39;49m\u001b[43mdone\u001b[49m\u001b[43m(\u001b[49m\u001b[43m)\u001b[49m\n",
      "File \u001b[1;32m<string>:8\u001b[0m, in \u001b[0;36mmainloop\u001b[1;34m()\u001b[0m\n",
      "File \u001b[1;32m~\\AppData\\Local\\Programs\\Python\\Python310\\lib\\turtle.py:812\u001b[0m, in \u001b[0;36mTurtleScreenBase.mainloop\u001b[1;34m(self)\u001b[0m\n\u001b[0;32m    799\u001b[0m \u001b[38;5;28;01mdef\u001b[39;00m \u001b[38;5;21mmainloop\u001b[39m(\u001b[38;5;28mself\u001b[39m):\n\u001b[0;32m    800\u001b[0m \u001b[38;5;250m    \u001b[39m\u001b[38;5;124;03m\"\"\"Starts event loop - calling Tkinter's mainloop function.\u001b[39;00m\n\u001b[0;32m    801\u001b[0m \n\u001b[0;32m    802\u001b[0m \u001b[38;5;124;03m    No argument.\u001b[39;00m\n\u001b[1;32m   (...)\u001b[0m\n\u001b[0;32m    810\u001b[0m \n\u001b[0;32m    811\u001b[0m \u001b[38;5;124;03m    \"\"\"\u001b[39;00m\n\u001b[1;32m--> 812\u001b[0m     \u001b[38;5;28;43mself\u001b[39;49m\u001b[38;5;241;43m.\u001b[39;49m\u001b[43mcv\u001b[49m\u001b[38;5;241;43m.\u001b[39;49m\u001b[43mtk\u001b[49m\u001b[38;5;241;43m.\u001b[39;49m\u001b[43mmainloop\u001b[49m\u001b[43m(\u001b[49m\u001b[43m)\u001b[49m\n",
      "\u001b[1;31mKeyboardInterrupt\u001b[0m: "
     ]
    }
   ],
   "source": [
    "# draw square in Python Turtle\n",
    "import turtle\n",
    "  \n",
    "t = turtle.Turtle()\n",
    " \n",
    "s = int(input(\"Enter the length of the side of the Square: \"))\n",
    " \n",
    "# drawing first side\n",
    "t.forward(s) # Forward turtle by s units\n",
    "t.left(90) # Turn turtle by 90 degree\n",
    " \n",
    "# drawing second side\n",
    "t.forward(s) # Forward turtle by s units\n",
    "t.left(90) # Turn turtle by 90 degree\n",
    " \n",
    "# drawing third side\n",
    "t.forward(s) # Forward turtle by s units\n",
    "t.left(90) # Turn turtle by 90 degree\n",
    " \n",
    "# drawing fourth side\n",
    "t.forward(s) # Forward turtle by s units\n",
    "t.left(90) # Turn turtle by 90 degree\n",
    "\n",
    "turtle.done()"
   ]
  },
  {
   "cell_type": "code",
   "execution_count": null,
   "id": "635bcd10",
   "metadata": {},
   "outputs": [],
   "source": [
    "\n",
    "'''Viết hàm chuyển đổi nhiệt độ từ độ C sang độ F\n",
    " Fahrenheit (°F) = (Temperature in degrees Celsius (°C) * 9/5) + 32\n",
    " Input: độ_c\n",
    " Ouput: độ_f\n",
    "'''"
   ]
  }
 ],
 "metadata": {
  "kernelspec": {
   "display_name": "Python 3 (ipykernel)",
   "language": "python",
   "name": "python3"
  },
  "language_info": {
   "codemirror_mode": {
    "name": "ipython",
    "version": 3
   },
   "file_extension": ".py",
   "mimetype": "text/x-python",
   "name": "python",
   "nbconvert_exporter": "python",
   "pygments_lexer": "ipython3",
   "version": "3.10.7"
  }
 },
 "nbformat": 4,
 "nbformat_minor": 5
}
