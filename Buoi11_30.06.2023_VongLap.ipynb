{
 "cells": [
  {
   "cell_type": "code",
   "execution_count": 2,
   "id": "09a09f10",
   "metadata": {},
   "outputs": [
    {
     "name": "stdout",
     "output_type": "stream",
     "text": [
      "Nhập số nguyên dương: 11\n",
      "11 x 1 = 11\n",
      "11 x 2 = 22\n",
      "11 x 3 = 33\n",
      "11 x 4 = 44\n",
      "11 x 5 = 55\n",
      "11 x 6 = 66\n",
      "11 x 7 = 77\n",
      "11 x 8 = 88\n",
      "11 x 9 = 99\n",
      "11 x 10 = 110\n"
     ]
    }
   ],
   "source": [
    "\"\"\"Nhập và in bảng cửu chương.\n",
    "Lặp lại N x i = ? với i = 1 --> 10\n",
    "\"\"\"\n",
    "N = int(input(\"Nhập số nguyên dương: \"))\n",
    "\n",
    "i = 1\n",
    "while i <= 10:\n",
    "    print(f\"{N} x {i} = {N*i}\")\n",
    "    i += 1"
   ]
  },
  {
   "cell_type": "code",
   "execution_count": 4,
   "id": "24c1b21d",
   "metadata": {},
   "outputs": [
    {
     "name": "stdout",
     "output_type": "stream",
     "text": [
      "range(1, 10)\n",
      "[1, 2, 3, 4, 5, 6, 7, 8, 9]\n"
     ]
    }
   ],
   "source": [
    "print(range(1,10))\n",
    "print(list(range(1,10)))"
   ]
  },
  {
   "cell_type": "code",
   "execution_count": 6,
   "id": "125d6e7f",
   "metadata": {},
   "outputs": [
    {
     "name": "stdout",
     "output_type": "stream",
     "text": [
      "Nhập số nguyên dương: 13\n",
      "13 x 1 = 13\n",
      "13 x 2 = 26\n",
      "13 x 3 = 39\n",
      "13 x 4 = 52\n",
      "13 x 5 = 65\n",
      "13 x 6 = 78\n",
      "13 x 7 = 91\n",
      "13 x 8 = 104\n",
      "13 x 9 = 117\n",
      "13 x 10 = 130\n"
     ]
    }
   ],
   "source": [
    "\"Bảng cửu chương dùng lệnh for, range\"\n",
    "N = int(input(\"Nhập số nguyên dương: \"))\n",
    "\n",
    "for phan_tu in range(1, 11):\n",
    "    print(f\"{N} x {phan_tu} = {N*phan_tu}\")"
   ]
  },
  {
   "cell_type": "code",
   "execution_count": 10,
   "id": "fa633591",
   "metadata": {},
   "outputs": [
    {
     "name": "stdout",
     "output_type": "stream",
     "text": [
      "15, 13, 11, 9, 7, "
     ]
    }
   ],
   "source": [
    "for i in range(15, 5, -2):\n",
    "    print(i, end=\", \")"
   ]
  },
  {
   "cell_type": "code",
   "execution_count": 14,
   "id": "66e2d7f2",
   "metadata": {},
   "outputs": [
    {
     "name": "stdout",
     "output_type": "stream",
     "text": [
      "Từ bảng cửu chương số: 3\n",
      "Đến bảng cửu chương số: 8\n",
      "3*1=3\t4*1=4\t5*1=5\t6*1=6\t7*1=7\t8*1=8\t\n",
      "3*2=6\t4*2=8\t5*2=10\t6*2=12\t7*2=14\t8*2=16\t\n",
      "3*3=9\t4*3=12\t5*3=15\t6*3=18\t7*3=21\t8*3=24\t\n",
      "3*4=12\t4*4=16\t5*4=20\t6*4=24\t7*4=28\t8*4=32\t\n",
      "3*5=15\t4*5=20\t5*5=25\t6*5=30\t7*5=35\t8*5=40\t\n",
      "3*6=18\t4*6=24\t5*6=30\t6*6=36\t7*6=42\t8*6=48\t\n",
      "3*7=21\t4*7=28\t5*7=35\t6*7=42\t7*7=49\t8*7=56\t\n",
      "3*8=24\t4*8=32\t5*8=40\t6*8=48\t7*8=56\t8*8=64\t\n",
      "3*9=27\t4*9=36\t5*9=45\t6*9=54\t7*9=63\t8*9=72\t\n",
      "3*10=30\t4*10=40\t5*10=50\t6*10=60\t7*10=70\t8*10=80\t\n"
     ]
    }
   ],
   "source": [
    "\"\"\"In ra bảng cửu chương từ 1 đến 10\n",
    "1 x 1 = 1   2 x 1 = 2 ..... 10 x 1 = 10\n",
    "1 x 2 = 2   2 x 2 = 4 ....  10 x 2 = 20\n",
    "\n",
    "...\n",
    "1 x 10 = 10 2 x 10 = 20 ..... 10 x 10 = 100\n",
    "HD: Dùng 2 vòng lặp lồng nhau\n",
    "10 dòng, 10 cột.\n",
    "\"\"\"\n",
    "\n",
    "n = int(input(\"Từ bảng cửu chương số: \"))\n",
    "m = int(input(\"Đến bảng cửu chương số: \"))\n",
    "\n",
    "for i in range(1, 11): #Dòng\n",
    "    for j in range(n, m+1):\n",
    "        print(f'{j}*{i}={j*i}', end=\"\\t\")\n",
    "    print() # Xuống dòng\n"
   ]
  },
  {
   "cell_type": "code",
   "execution_count": 15,
   "id": "b9f2f750",
   "metadata": {},
   "outputs": [
    {
     "name": "stdout",
     "output_type": "stream",
     "text": [
      "1.4\n",
      "1\n"
     ]
    }
   ],
   "source": [
    "print(7/5)\n",
    "print(7//5)"
   ]
  },
  {
   "cell_type": "code",
   "execution_count": 25,
   "id": "cca42320",
   "metadata": {},
   "outputs": [
    {
     "name": "stdout",
     "output_type": "stream",
     "text": [
      "Nhập vào 2 số cách nhau bởi dấu phẩy: 4, 21\n",
      "['4', ' 21']\n",
      "4 21\n",
      "4\n",
      "Buzz\n",
      "Fizz\n",
      "7\n",
      "8\n",
      "Fizz\n",
      "Buzz\n",
      "11\n",
      "Fizz\n",
      "13\n",
      "14\n",
      "FizzBuzz\n",
      "16\n",
      "17\n",
      "Fizz\n",
      "19\n",
      "Buzz\n",
      "Fizz\n"
     ]
    }
   ],
   "source": [
    "\"\"\"\n",
    "Nhập 2 số cách nhau bởi khoảng trắng: \"2 3\"\n",
    "\"2, 3\".split(\" \") ==> [\"2\", \"3\"]\n",
    "\"\"\"\n",
    "try:\n",
    "    chuoi_nhap = input(\"Nhập vào 2 số cách nhau bởi dấu phẩy: \")\n",
    "    mang_so = chuoi_nhap.split(\",\")\n",
    "    print(mang_so)\n",
    "    so_1 = int(mang_so[0].strip())\n",
    "    so_2 = int(mang_so[1].strip())\n",
    "    \n",
    "    if so_2 < so_1:\n",
    "        tmp = so_1\n",
    "        so_1 = so_2\n",
    "        so_2 = tmp\n",
    "        \n",
    "    print(so_1, so_2)\n",
    "    \n",
    "    for so in range(so_1, so_2 + 1):\n",
    "        if so % 15 == 0:\n",
    "            print(\"FizzBuzz\")\n",
    "        elif  so % 5 == 0:\n",
    "            print(\"Buzz\")\n",
    "        elif so % 3 == 0:\n",
    "            print(\"Fizz\")\n",
    "        else:\n",
    "            print(so)\n",
    "except Exception as ex:\n",
    "   print(\"Có lỗi: \", ex) "
   ]
  },
  {
   "cell_type": "code",
   "execution_count": 28,
   "id": "61272550",
   "metadata": {},
   "outputs": [
    {
     "name": "stdout",
     "output_type": "stream",
     "text": [
      "Từ bảng cửu chương số: 3\n",
      "Đến bảng cửu chương số: 9\n",
      "3*1=3\t4*1=4\t5*1=5\t6*1=6\t7*1=7\t8*1=8\t9*1=9\t\n",
      "3*2=6\t4*2=8\t5*2=10\t6*2=12\t7*2=14\t8*2=16\t9*2=18\t\n",
      "3*3=9\t4*3=12\t5*3=15\t6*3=18\t7*3=21\t8*3=24\t9*3=27\t\n",
      "3*4=12\t4*4=16\t5*4=20\t6*4=24\t7*4=28\t8*4=32\t9*4=36\t\n",
      "3*5=15\t4*5=20\t5*5=25\t6*5=30\t7*5=35\t8*5=40\t9*5=45\t\n",
      "3*6=18\t4*6=24\t5*6=30\t6*6=36\t7*6=42\t8*6=48\t9*6=54\t\n",
      "3*7=21\t4*7=28\t5*7=35\t6*7=42\t7*7=49\t8*7=56\t9*7=63\t\n",
      "3*8=24\t4*8=32\t5*8=40\t6*8=48\t7*8=56\t8*8=64\t9*8=72\t\n",
      "3*9=27\t4*9=36\t5*9=45\t6*9=54\t7*9=63\t8*9=72\t9*9=81\t\n",
      "3*10=30\t4*10=40\t5*10=50\t6*10=60\t7*10=70\t8*10=80\t9*10=90\t\n"
     ]
    }
   ],
   "source": [
    "n = int(input(\"Từ bảng cửu chương số: \"))\n",
    "m = int(input(\"Đến bảng cửu chương số: \"))\n",
    "\n",
    "dong = 1\n",
    "while dong < 11: #Dòng\n",
    "    \n",
    "    cot = n\n",
    "    while cot <= m:\n",
    "        print(f'{cot}*{dong}={cot*dong}', end=\"\\t\")\n",
    "        cot += 1\n",
    "        \n",
    "    print() # Xuống dòng\n",
    "    dong += 1"
   ]
  },
  {
   "cell_type": "code",
   "execution_count": null,
   "id": "458eb71a",
   "metadata": {},
   "outputs": [],
   "source": []
  }
 ],
 "metadata": {
  "kernelspec": {
   "display_name": "Python 3 (ipykernel)",
   "language": "python",
   "name": "python3"
  },
  "language_info": {
   "codemirror_mode": {
    "name": "ipython",
    "version": 3
   },
   "file_extension": ".py",
   "mimetype": "text/x-python",
   "name": "python",
   "nbconvert_exporter": "python",
   "pygments_lexer": "ipython3",
   "version": "3.10.7"
  }
 },
 "nbformat": 4,
 "nbformat_minor": 5
}
