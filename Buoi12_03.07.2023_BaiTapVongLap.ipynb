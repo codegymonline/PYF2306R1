{
 "cells": [
  {
   "cell_type": "code",
   "execution_count": 1,
   "id": "80e760cf",
   "metadata": {},
   "outputs": [
    {
     "data": {
      "text/plain": [
       "[4, 5]"
      ]
     },
     "execution_count": 1,
     "metadata": {},
     "output_type": "execute_result"
    }
   ],
   "source": [
    "[4] + [5]"
   ]
  },
  {
   "cell_type": "code",
   "execution_count": 2,
   "id": "3adac288",
   "metadata": {},
   "outputs": [
    {
     "data": {
      "text/plain": [
       "[11, 4, 5]"
      ]
     },
     "execution_count": 2,
     "metadata": {},
     "output_type": "execute_result"
    }
   ],
   "source": [
    "[11] + [4, 5]"
   ]
  },
  {
   "cell_type": "code",
   "execution_count": 11,
   "id": "5fd6f3b9",
   "metadata": {},
   "outputs": [
    {
     "name": "stdout",
     "output_type": "stream",
     "text": [
      "Nhập số nguyên dương:29\n",
      "Đã nhập:  29\n",
      "Số nhị phân: 11101\n"
     ]
    }
   ],
   "source": [
    "while True:\n",
    "    try:\n",
    "        N = int(input(\"Nhập số nguyên dương:\"))\n",
    "        if N > 0:\n",
    "            break\n",
    "    except:\n",
    "        print(\"Nhập sai rồi! Nhập lại\")\n",
    "print(\"Đã nhập: \", N)\n",
    "mang_so_du = []\n",
    "\n",
    "while N > 0:\n",
    "    mang_so_du = [str(N % 2)] + mang_so_du\n",
    "    #print(mang_so_du)\n",
    "    N = N // 2\n",
    "\n",
    "print(\"Số nhị phân:\", \"\".join(mang_so_du))"
   ]
  },
  {
   "cell_type": "code",
   "execution_count": 13,
   "id": "6a4ea49a",
   "metadata": {},
   "outputs": [
    {
     "data": {
      "text/plain": [
       "'10011'"
      ]
     },
     "execution_count": 13,
     "metadata": {},
     "output_type": "execute_result"
    }
   ],
   "source": [
    "\"\".join([\"1\", \"0\", \"0\", \"1\", \"1\"])"
   ]
  },
  {
   "cell_type": "code",
   "execution_count": 18,
   "id": "aa7ac9ce",
   "metadata": {},
   "outputs": [
    {
     "name": "stdout",
     "output_type": "stream",
     "text": [
      "Nhập chuỗi:PYTHON CODEGYM\n",
      "Chuỗi đảo ngược: MYGEDOC NOHTYP\n"
     ]
    }
   ],
   "source": [
    "\"\"\"Viết chương trình cho phép nhập vào 1 số nguyên dương và in ra màn hình số đảo ngược của nó.\n",
    "Yêu cầu dùng vòng lặp, không dùng hàm sẵn có.\n",
    "\"\"\"\n",
    "chuoi = input(\"Nhập chuỗi:\")\n",
    "ket_qua = \"\"\n",
    "for ki_tu in chuoi:\n",
    "    ket_qua = ki_tu + ket_qua\n",
    "    \n",
    "print(\"Chuỗi đảo ngược:\", ket_qua)"
   ]
  },
  {
   "cell_type": "code",
   "execution_count": 21,
   "id": "84d409e1",
   "metadata": {},
   "outputs": [
    {
     "name": "stdout",
     "output_type": "stream",
     "text": [
      "Nhập chuỗi: ABCDERF\n",
      "FREDCBA\n"
     ]
    }
   ],
   "source": [
    "BT2_num_input = input(\"Nhập chuỗi: \")\n",
    "reversed_num_input = str(BT2_num_input)[::-1]\n",
    "print(reversed_num_input)"
   ]
  },
  {
   "cell_type": "code",
   "execution_count": 31,
   "id": "2513d0ed",
   "metadata": {},
   "outputs": [
    {
     "name": "stdout",
     "output_type": "stream",
     "text": [
      "S =  21172688271\n"
     ]
    }
   ],
   "source": [
    "\"\"\"\n",
    "BT4: Tính tổng của 30 số chia hết cho 7 đầu tiên trong các số tự nhiên\n",
    "S = 7 + 14 + 21 + 28 + ...\n",
    "S = 7.1 + 7.2 + 7.3 + .. + 7.30\n",
    "\"\"\"\n",
    "N = 77777 # Cần lấy tổng 30 số đầu tiên\n",
    "S = 0\n",
    "for index in range(1, N + 1):\n",
    "    S += 7 * index\n",
    "    \n",
    "print(\"S = \", S)"
   ]
  },
  {
   "cell_type": "code",
   "execution_count": 32,
   "id": "23e09c6c",
   "metadata": {},
   "outputs": [
    {
     "name": "stdout",
     "output_type": "stream",
     "text": [
      "Tổng 77777 số chia hết cho 7 đầu tiên là :  7142142\n"
     ]
    }
   ],
   "source": [
    "tong=0\n",
    "dem=0\n",
    "N = 77777\n",
    "for num in range(1, 10000):\n",
    "    if num % 7 == 0:\n",
    "        tong = tong + num\n",
    "        dem = dem + 1\n",
    "        if dem == N:\n",
    "            break\n",
    "print(f'Tổng {N} số chia hết cho 7 đầu tiên là : ', tong)\n"
   ]
  },
  {
   "cell_type": "code",
   "execution_count": 41,
   "id": "a4795b17",
   "metadata": {},
   "outputs": [
    {
     "name": "stdout",
     "output_type": "stream",
     "text": [
      "Nhập chuỗi cần kiểm tra: AAAAE\n",
      "Không đối xứng\n"
     ]
    }
   ],
   "source": [
    "\"\"\"BT5: Kiểm tra chuỗi đối xứng.\n",
    "ABCBA ==: đối xứng\n",
    "ABBA: đối xứng\n",
    "ABCDE\n",
    "\"\"\"\n",
    "chuoi = input(\"Nhập chuỗi cần kiểm tra: \")\n",
    "do_dai_chuoi = len(chuoi)\n",
    "\n",
    "flag = True\n",
    "for i in range(0, do_dai_chuoi // 2):\n",
    "    if chuoi[i] != chuoi[do_dai_chuoi - 1 - i]:\n",
    "        flag = False\n",
    "        break\n",
    "\n",
    "print(\"Chuỗi đối xứng\" if flag else \"Không đối xứng\")"
   ]
  },
  {
   "cell_type": "code",
   "execution_count": 40,
   "id": "a56e9d00",
   "metadata": {},
   "outputs": [
    {
     "name": "stdout",
     "output_type": "stream",
     "text": [
      "0\n",
      "1\n",
      "2\n"
     ]
    }
   ],
   "source": [
    "for i in range (0, 7 // 2):\n",
    "    print(i)"
   ]
  },
  {
   "cell_type": "code",
   "execution_count": 45,
   "id": "f408a415",
   "metadata": {},
   "outputs": [
    {
     "name": "stdout",
     "output_type": "stream",
     "text": [
      "A F\n",
      "False\n",
      "True\n"
     ]
    }
   ],
   "source": [
    "def isPalindone(chuoi: str):\n",
    "    flag = True\n",
    "    \n",
    "    do_dai_chuoi = len(chuoi)\n",
    "    for i in range(0, do_dai_chuoi // 2):\n",
    "        if chuoi[i] != chuoi[do_dai_chuoi - 1 - i]:\n",
    "            flag = False\n",
    "            break\n",
    "        \n",
    "    return flag\n",
    "\n",
    "print(isPalindone(\"ABCDEF\"))\n",
    "print(isPalindone(\"ABCDCBA\"))"
   ]
  },
  {
   "cell_type": "code",
   "execution_count": 47,
   "id": "1af53c6c",
   "metadata": {},
   "outputs": [
    {
     "name": "stdout",
     "output_type": "stream",
     "text": [
      "False\n",
      "True\n"
     ]
    }
   ],
   "source": [
    "def isPalindone(chuoi: str):\n",
    "    do_dai_chuoi = len(chuoi)\n",
    "    for i in range(0, do_dai_chuoi // 2):\n",
    "        if chuoi[i] != chuoi[do_dai_chuoi - 1 - i]:\n",
    "            return False\n",
    "        \n",
    "    return True\n",
    "\n",
    "print(isPalindone(\"ABCDEF\"))\n",
    "print(isPalindone(\"ABCDCBA\"))"
   ]
  },
  {
   "cell_type": "code",
   "execution_count": null,
   "id": "15ae87a6",
   "metadata": {},
   "outputs": [],
   "source": []
  }
 ],
 "metadata": {
  "kernelspec": {
   "display_name": "Python 3 (ipykernel)",
   "language": "python",
   "name": "python3"
  },
  "language_info": {
   "codemirror_mode": {
    "name": "ipython",
    "version": 3
   },
   "file_extension": ".py",
   "mimetype": "text/x-python",
   "name": "python",
   "nbconvert_exporter": "python",
   "pygments_lexer": "ipython3",
   "version": "3.10.7"
  }
 },
 "nbformat": 4,
 "nbformat_minor": 5
}
