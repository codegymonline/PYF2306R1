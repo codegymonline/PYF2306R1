{
 "cells": [
  {
   "cell_type": "code",
   "execution_count": 1,
   "id": "b4c2ab37",
   "metadata": {},
   "outputs": [
    {
     "name": "stdout",
     "output_type": "stream",
     "text": [
      "Nhập số nguyên 1: 3\n",
      "Nhập số nguyên 2: 2\n",
      "Nhập số nguyên 3: 9\n",
      "2, 3, 9\n"
     ]
    }
   ],
   "source": [
    "num_1 = int(input(\"Nhập số nguyên 1: \"))\n",
    "num_2 = int(input(\"Nhập số nguyên 2: \"))\n",
    "num_3 = int(input(\"Nhập số nguyên 3: \"))\n",
    "num_trans = 0\n",
    "\n",
    "#TH1: num_1 nhỏ nhất\n",
    "if num_1 < num_2 and num_1 < num_3:\n",
    "    None\n",
    "#TH2: num_2 nhỏ nhất\n",
    "elif num_2 < num_1 and num_2 < num_3:\n",
    "    #2.1 swap num_1, num_2 ==> num_1 nhỏ nhất\n",
    "    num_trans = num_1\n",
    "    num_1 = num_2\n",
    "    num_2 = num_trans\n",
    "    \n",
    "#TH3 num3 nhỏ nhất\n",
    "elif num_3 < num_2 and num_3 < num_1:\n",
    "    #3.1 swap num_1, num_3 ==> num_1 nhỏ nhất\n",
    "    num_trans = num_1\n",
    "    num_1 = num_3\n",
    "    num_3 = num_trans\n",
    "    \n",
    "if num_2 > num_3:\n",
    "    num_trans = num_2\n",
    "    num_2 = num_3\n",
    "    num_3 = num_trans\n",
    "print(f'{num_1}, {num_2}, {num_3}')\n"
   ]
  },
  {
   "cell_type": "code",
   "execution_count": 4,
   "id": "772bbb02",
   "metadata": {},
   "outputs": [
    {
     "name": "stdout",
     "output_type": "stream",
     "text": [
      "Nhập số nguyên: 1\n",
      "Nhập số nguyên: 99\n",
      "Nhập số nguyên: -3\n",
      "Nhập số nguyên: 54\n",
      "Nhập số nguyên: e\n",
      "Lỗi nên dừng nhập\n",
      "Mảng vừa nhập: [1, 99, -3, 54]\n",
      "Mảng sắp tăng: [-3, 1, 54, 99]\n"
     ]
    }
   ],
   "source": [
    "arr = [] # Mảng rỗng\n",
    "while True:\n",
    "    try:\n",
    "        tmp = int(input(\"Nhập số nguyên: \"))\n",
    "        arr.append(tmp) # Thêm vào mảng\n",
    "    except:\n",
    "        print(\"Lỗi nên dừng nhập\")\n",
    "        break\n",
    "        \n",
    "print(\"Mảng vừa nhập:\", arr)\n",
    "\n",
    "n = len(arr)\n",
    "for i in range(0, n - 1):\n",
    "    for j in range(i+1, n):\n",
    "        if arr[j] < arr[i]:\n",
    "            tmp = arr[i]\n",
    "            arr[i] = arr[j]\n",
    "            arr[j] = tmp\n",
    "\n",
    "print(\"Mảng sắp tăng:\", arr)\n",
    "    "
   ]
  },
  {
   "cell_type": "code",
   "execution_count": 10,
   "id": "a612f856",
   "metadata": {},
   "outputs": [
    {
     "name": "stdout",
     "output_type": "stream",
     "text": [
      "Nhập chuỗi:Toi thich hoc Py+thon!?@\n",
      "T xuất hiện 1 lần\n",
      "o xuất hiện 3 lần\n",
      "i xuất hiện 2 lần\n",
      "t xuất hiện 2 lần\n",
      "h xuất hiện 4 lần\n",
      "c xuất hiện 2 lần\n",
      "P xuất hiện 1 lần\n",
      "y xuất hiện 1 lần\n",
      "n xuất hiện 1 lần\n",
      "\n",
      "{'T': 1, 'o': 3, 'i': 2, 't': 2, 'h': 4, 'c': 2, 'P': 1, 'y': 1, 'n': 1}\n"
     ]
    }
   ],
   "source": [
    "\"\"\"\n",
    "[Bài tập] Đếm số lần xuất hiện của từng ký tự trong chuỗi.\n",
    "VD: Toi thich hoc Python\n",
    "T: 1, o: 3, i: 2, ' ': 3,t: 2, h: 4,....\n",
    "Hint: Dùng dictionary {\"key\": value}\n",
    "\"\"\"\n",
    "chuoi_nhap = input(\"Nhập chuỗi:\")\n",
    "\n",
    "mang_thong_ke = {}\n",
    "\n",
    "for ki_tu in chuoi_nhap:\n",
    "    # Xem kí tự đó đã có trong mảng thống kế chưa\n",
    "    if ki_tu not in mang_thong_ke and ki_tu.isalpha():\n",
    "        # Xem kí tự đó xuất hiện bao nhiêu lần\n",
    "        so_lan_xh = chuoi_nhap.count(ki_tu)\n",
    "        print(ki_tu, 'xuất hiện', so_lan_xh, 'lần')\n",
    "        #Thêm vào mảng thống kê\n",
    "        mang_thong_ke[ki_tu] = so_lan_xh\n",
    "        \n",
    "        \n",
    "print()\n",
    "print(mang_thong_ke)"
   ]
  },
  {
   "cell_type": "code",
   "execution_count": 13,
   "id": "ef7c820e",
   "metadata": {},
   "outputs": [
    {
     "name": "stdout",
     "output_type": "stream",
     "text": [
      "What do you want to do?\n",
      "1. Add\n",
      "2. Remove\n",
      "Select option 1 or 2: 1\n",
      "Input item name:BIa\n",
      "Item cost: 29000\n",
      "Date: 20/07/2022\n",
      "[{'name': 'BIa', 'cost': 29000, 'date': '20/07/2022'}]\n",
      "What do you want to do?\n",
      "1. Add\n",
      "2. Remove\n",
      "Select option 1 or 2: 1\n",
      "Input item name:Nước ngọt\n",
      "Item cost: 19900\n",
      "Date: 11/11/2022\n",
      "[{'name': 'BIa', 'cost': 29000, 'date': '20/07/2022'}, {'name': 'Nước ngọt', 'cost': 19900, 'date': '11/11/2022'}]\n",
      "What do you want to do?\n",
      "1. Add\n",
      "2. Remove\n",
      "Select option 1 or 2: 2\n",
      "Input item name:a\n",
      "[{'name': 'BIa', 'cost': 29000, 'date': '20/07/2022'}, {'name': 'Nước ngọt', 'cost': 19900, 'date': '11/11/2022'}]\n",
      "What do you want to do?\n",
      "1. Add\n",
      "2. Remove\n",
      "Select option 1 or 2: 2\n",
      "Input item name:BIa\n",
      "[{'name': 'Nước ngọt', 'cost': 19900, 'date': '11/11/2022'}]\n",
      "What do you want to do?\n",
      "1. Add\n",
      "2. Remove\n",
      "Select option 1 or 2: e\n"
     ]
    },
    {
     "ename": "ValueError",
     "evalue": "invalid literal for int() with base 10: 'e'",
     "output_type": "error",
     "traceback": [
      "\u001b[1;31m---------------------------------------------------------------------------\u001b[0m",
      "\u001b[1;31mValueError\u001b[0m                                Traceback (most recent call last)",
      "Cell \u001b[1;32mIn[13], line 20\u001b[0m\n\u001b[0;32m     16\u001b[0m \u001b[38;5;28;01mwhile\u001b[39;00m \u001b[38;5;28;01mTrue\u001b[39;00m:    \n\u001b[0;32m     17\u001b[0m     \u001b[38;5;28mprint\u001b[39m(\u001b[38;5;124m\"\u001b[39m\u001b[38;5;124mWhat do you want to do?\u001b[39m\u001b[38;5;130;01m\\n\u001b[39;00m\u001b[38;5;124m\"\u001b[39m\\\n\u001b[0;32m     18\u001b[0m             \u001b[38;5;124m\"\u001b[39m\u001b[38;5;124m1. Add\u001b[39m\u001b[38;5;130;01m\\n\u001b[39;00m\u001b[38;5;124m\"\u001b[39m \\\n\u001b[0;32m     19\u001b[0m             \u001b[38;5;124m\"\u001b[39m\u001b[38;5;124m2. Remove\u001b[39m\u001b[38;5;124m\"\u001b[39m)\n\u001b[1;32m---> 20\u001b[0m     option \u001b[38;5;241m=\u001b[39m \u001b[38;5;28;43mint\u001b[39;49m\u001b[43m(\u001b[49m\u001b[38;5;28;43minput\u001b[39;49m\u001b[43m(\u001b[49m\u001b[38;5;124;43m\"\u001b[39;49m\u001b[38;5;124;43mSelect option 1 or 2: \u001b[39;49m\u001b[38;5;124;43m\"\u001b[39;49m\u001b[43m)\u001b[49m\u001b[43m)\u001b[49m\n\u001b[0;32m     22\u001b[0m     \u001b[38;5;28;01mif\u001b[39;00m option \u001b[38;5;241m==\u001b[39m \u001b[38;5;241m1\u001b[39m:\n\u001b[0;32m     23\u001b[0m         name_input \u001b[38;5;241m=\u001b[39m \u001b[38;5;28minput\u001b[39m(\u001b[38;5;124m\"\u001b[39m\u001b[38;5;124mInput item name:\u001b[39m\u001b[38;5;124m\"\u001b[39m)\n",
      "\u001b[1;31mValueError\u001b[0m: invalid literal for int() with base 10: 'e'"
     ]
    }
   ],
   "source": [
    "\"\"\"\n",
    "Ứng dụng quản lý chi tiêu.\n",
    "\"\"\"\n",
    "expenses = [] # Mảng chi tiêu\n",
    "# 1 phần có dạng:\n",
    "# item = {'name': name_input, 'cost':cost_input, 'date':date_input}\n",
    "\n",
    "def find_item_by_name(arr, item_name):\n",
    "    \"\"\"Trả về vị trí đầu tiên tìm thấy trong mảng\"\"\"\n",
    "    for item_index in range(0, len(arr)):\n",
    "        if arr[item_index][\"name\"] == item_name:\n",
    "            return item_index\n",
    "        \n",
    "    return -1# Tìm ko thấy\n",
    "\n",
    "while True:    \n",
    "    print(\"What do you want to do?\\n\"\\\n",
    "            \"1. Add\\n\" \\\n",
    "            \"2. Remove\")\n",
    "    option = int(input(\"Select option 1 or 2: \"))\n",
    "    \n",
    "    if option == 1:\n",
    "        name_input = input(\"Input item name:\")\n",
    "        cost_input = int(input(\"Item cost: \"))\n",
    "        date_input = input(\"Date: \")\n",
    "        item = {\n",
    "            'name': name_input,\n",
    "            'cost': cost_input,\n",
    "            'date': date_input\n",
    "        }\n",
    "        expenses.append(item)\n",
    "        print(expenses)\n",
    "    elif option == 2:\n",
    "        name_input = input(\"Input item name:\")\n",
    "        index_find = find_item_by_name(expenses, name_input)\n",
    "        if index_find > -1:\n",
    "            del expenses[index_find]\n",
    "        print(expenses)\n",
    "    else:\n",
    "        print('Invalid choice. Good bye!')"
   ]
  },
  {
   "cell_type": "code",
   "execution_count": null,
   "id": "5b4c1f90",
   "metadata": {},
   "outputs": [],
   "source": []
  }
 ],
 "metadata": {
  "kernelspec": {
   "display_name": "Python 3 (ipykernel)",
   "language": "python",
   "name": "python3"
  },
  "language_info": {
   "codemirror_mode": {
    "name": "ipython",
    "version": 3
   },
   "file_extension": ".py",
   "mimetype": "text/x-python",
   "name": "python",
   "nbconvert_exporter": "python",
   "pygments_lexer": "ipython3",
   "version": "3.10.7"
  }
 },
 "nbformat": 4,
 "nbformat_minor": 5
}
