{
 "cells": [
  {
   "cell_type": "code",
   "execution_count": 3,
   "id": "0aeb446b",
   "metadata": {},
   "outputs": [
    {
     "name": "stdout",
     "output_type": "stream",
     "text": [
      "Chào mấy lần: 3\n",
      "Hello world 1\n",
      "Hello world 2\n",
      "Hello world 3\n"
     ]
    }
   ],
   "source": [
    "N = int(input(\"Chào mấy lần: \"))\n",
    "count = 0\n",
    "\n",
    "while count < N:\n",
    "    print(f\"Hello world {count + 1}\")\n",
    "    count = count + 1"
   ]
  },
  {
   "cell_type": "code",
   "execution_count": 10,
   "id": "3220f5c2",
   "metadata": {},
   "outputs": [
    {
     "name": "stdout",
     "output_type": "stream",
     "text": [
      "2\n",
      "3\n",
      "4\n",
      "5\n",
      "Hết cộng\n",
      "S = 1 + 2 + 3 + ... + 4 = 10\n"
     ]
    }
   ],
   "source": [
    "\"\"\"VD2:\n",
    "Tính tổng các số nguyên từ 1 đến N: sum = 1+2+3+...+N\n",
    "\"\"\"\n",
    "N = 4\n",
    "S = 0\n",
    "i = 1\n",
    "while i <= N:\n",
    "    S = S + i\n",
    "    i = i + 1\n",
    "else:\n",
    "    print(\"Hết cộng\")\n",
    "print(f\"S = 1 + 2 + 3 + ... + {N} = {S}\")"
   ]
  },
  {
   "cell_type": "code",
   "execution_count": 15,
   "id": "4fda8067",
   "metadata": {},
   "outputs": [
    {
     "name": "stdout",
     "output_type": "stream",
     "text": [
      "Nhập món ăn: T\n",
      "[]\n"
     ]
    }
   ],
   "source": [
    "\"\"\"\n",
    "Nhập vào danh sách các món ăn.\n",
    "Nhật T để dừng. Sau đó in ra danh sách.\n",
    "HINT:\n",
    "    Danh sách : dùng kiểu list []\n",
    "    Thêm 1 phần tử vào list dùng hàm: mylist.append(item)\n",
    "\"\"\"\n",
    "danh_sach_mon = []\n",
    "while True:\n",
    "    mon = input(\"Nhập món ăn: \")\n",
    "    #if mon.upper() == \"T\":\n",
    "    if mon in [\"T\", \"t\"]:\n",
    "        break # Thoát vòng lặp\n",
    "    else:\n",
    "        danh_sach_mon.append(mon)\n",
    "\n",
    "print(danh_sach_mon)"
   ]
  },
  {
   "cell_type": "code",
   "execution_count": 20,
   "id": "72fd37de",
   "metadata": {},
   "outputs": [
    {
     "name": "stdout",
     "output_type": "stream",
     "text": [
      "1\n",
      "3\n",
      "2\n",
      "67\n",
      "87\n",
      "78\n",
      "12\n",
      "Số chẵn:  [2, 78, 12]\n",
      "Số lẻ:  [1, 3, 67, 87]\n"
     ]
    }
   ],
   "source": [
    "\"\"\"Phân tách mảng số chẳn, số lẻ riêng.\"\"\"\n",
    "mang_so = [1, 3, 2, 67, 87, 78, 12]\n",
    "\n",
    "# In mảng ra\n",
    "for phan_tu in mang_so:\n",
    "    print(phan_tu)\n",
    "    \n",
    "# Lấy danh sách các phần tử số lẻ [1, 3, 67, 87]\n",
    "# Lấy danh sách số chẵn [2, 78, 12]\n",
    "mang_so_le = []\n",
    "mang_so_chan = []\n",
    "\n",
    "for phan_tu in mang_so:\n",
    "    if phan_tu % 2 == 0:\n",
    "        mang_so_chan.append(phan_tu)\n",
    "    else:\n",
    "        mang_so_le.append(phan_tu)\n",
    "\n",
    "print(\"Số chẵn: \", mang_so_chan)\n",
    "print(\"Số lẻ: \", mang_so_le)"
   ]
  },
  {
   "cell_type": "code",
   "execution_count": 23,
   "id": "f359bcdc",
   "metadata": {},
   "outputs": [
    {
     "name": "stdout",
     "output_type": "stream",
     "text": [
      "Nhập số dòng: 7\n",
      "1\n",
      "1 2\n",
      "1 2 3\n",
      "1 2 3 4\n",
      "1 2 3 4 5\n",
      "1 2 3 4 5 6\n",
      "1 2 3 4 5 6 7\n"
     ]
    }
   ],
   "source": [
    "'''\n",
    "BT1: In hình dạng\n",
    "\n",
    "1\n",
    "1 2\n",
    "1 2 3\n",
    "1 2 3 4\n",
    "với N = 4 dòng\n",
    "\n",
    "Yêu cầu: Nhập vào N và in ra hình dạng như trên\n",
    "'''\n",
    "N = int(input(\"Nhập số dòng: \"))\n",
    "\n",
    "i_dong = 1\n",
    "while i_dong <= N:\n",
    "    # In\n",
    "    j_cot = 1\n",
    "    while j_cot < i_dong:\n",
    "        print(j_cot, end=\" \")\n",
    "        j_cot += 1\n",
    "    \n",
    "    print(i_dong)\n",
    "    # tăng i\n",
    "    i_dong += 1"
   ]
  },
  {
   "cell_type": "code",
   "execution_count": null,
   "id": "a2b6aa41",
   "metadata": {},
   "outputs": [],
   "source": []
  }
 ],
 "metadata": {
  "kernelspec": {
   "display_name": "Python 3 (ipykernel)",
   "language": "python",
   "name": "python3"
  },
  "language_info": {
   "codemirror_mode": {
    "name": "ipython",
    "version": 3
   },
   "file_extension": ".py",
   "mimetype": "text/x-python",
   "name": "python",
   "nbconvert_exporter": "python",
   "pygments_lexer": "ipython3",
   "version": "3.10.7"
  }
 },
 "nbformat": 4,
 "nbformat_minor": 5
}
