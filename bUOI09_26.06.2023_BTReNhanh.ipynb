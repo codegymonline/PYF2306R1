{
 "cells": [
  {
   "cell_type": "code",
   "execution_count": 2,
   "id": "5eec2429",
   "metadata": {},
   "outputs": [
    {
     "name": "stdout",
     "output_type": "stream",
     "text": [
      "Nhập số tiền cần thanh toán: 123\n",
      "123\n"
     ]
    }
   ],
   "source": [
    "so_tien_thanh_toan = int(input(\"Nhập số tiền cần thanh toán: \"))\n",
    "print(so_tien_thanh_toan)"
   ]
  },
  {
   "cell_type": "code",
   "execution_count": 3,
   "id": "46bdd598",
   "metadata": {},
   "outputs": [
    {
     "name": "stdout",
     "output_type": "stream",
     "text": [
      "Nhập số tiền cấn thanh toánass\n",
      "Không hợp lệ\n"
     ]
    }
   ],
   "source": [
    "try:\n",
    "    so_tien_thanh_toan = int(input(\"Nhập số tiền cấn thanh toán\"))\n",
    "    print(so_tien_thanh_toan)\n",
    "except:\n",
    "    print(\"Không hợp lệ\")"
   ]
  },
  {
   "cell_type": "code",
   "execution_count": 9,
   "id": "cacd53cc",
   "metadata": {},
   "outputs": [
    {
     "name": "stdout",
     "output_type": "stream",
     "text": [
      "Nhập số tiền cấn thanh toán: 111\n",
      "Cần trả: 86\n"
     ]
    }
   ],
   "source": [
    "try:\n",
    "    so_tien_thanh_toan = int(input(\"Nhập số tiền cấn thanh toán: \"))\n",
    "    if so_tien_thanh_toan > 0:\n",
    "        giam_gia = 0\n",
    "        if so_tien_thanh_toan >= 150:\n",
    "            giam_gia = 50\n",
    "        elif so_tien_thanh_toan >= 100:\n",
    "            giam_gia = 25\n",
    "        elif so_tien_thanh_toan >= 75:\n",
    "            giam_gia = 15\n",
    "        print('Cần trả:', so_tien_thanh_toan - giam_gia)\n",
    "    else:\n",
    "        print(\"Số tiền Không hợp lệ\")\n",
    "except:\n",
    "    print(\"Số tiền Không hợp lệ\")"
   ]
  },
  {
   "cell_type": "code",
   "execution_count": 14,
   "id": "0f7b0549",
   "metadata": {},
   "outputs": [
    {
     "name": "stdout",
     "output_type": "stream",
     "text": [
      "Nhập cân nặng (kg): 29\n",
      "Nhập chiều cao (m): 1.6\n",
      "11.328124999999998: Gầy cấp độ III\n"
     ]
    }
   ],
   "source": [
    "is_data_valid = True\n",
    "try:\n",
    "    weight = float(input(\"Nhập cân nặng (kg): \"))\n",
    "    height = float(input(\"Nhập chiều cao (m): \"))\n",
    "\n",
    "    if weight <= 0 or height <= 0:\n",
    "        raise ValueError\n",
    "\n",
    "    valid_input = True\n",
    "\n",
    "except ValueError:\n",
    "    print(\"Vui lòng nhập vào một số hợp lệ.\")\n",
    "    is_data_valid = False\n",
    "\n",
    "if is_data_valid:\n",
    "    # Thực hiện tính toán\n",
    "    BMI = weight / height ** 2\n",
    "    if BMI < 16:\n",
    "        print(f'{BMI}: Gầy cấp độ III')\n",
    "    elif BMI < 17:\n",
    "        print(\"Gầy cấp độ II\")\n",
    "    elif  BMI < 18.5:\n",
    "        print('Gầy cấp độ I')\n",
    "    elif BMI < 25:\n",
    "        print(\"Bình thường\")\n",
    "    elif BMI < 30:\n",
    "        print('Thừa cân')\n",
    "    elif BMI < 35:\n",
    "        print('Béo phì cấp độ I')\n",
    "    elif BMI < 40:\n",
    "        print('Béo phì cấp độ II')\n",
    "    else:\n",
    "        print('Béo phì cấp độ III')"
   ]
  },
  {
   "cell_type": "code",
   "execution_count": 20,
   "id": "6ec08834",
   "metadata": {},
   "outputs": [
    {
     "name": "stdout",
     "output_type": "stream",
     "text": [
      "Nhập năm: 2024\n",
      "Nhập tháng: 2\n",
      "2024 là năm nhuận\n",
      "2/2024 có 29 ngày.\n"
     ]
    }
   ],
   "source": [
    "\"\"\"\n",
    "Nhập vào năm và tháng. In ra năm đó có nhuận hay không, tháng đó có nhiêu ngày?\n",
    "\"\"\"\n",
    "nam = int(input(\"Nhập năm: \"))\n",
    "thang = int(input(\"Nhập tháng: \"))\n",
    "\n",
    "la_nam_nhuan = False\n",
    "\n",
    "# chia hết cho 100 sẽ được coi là năm nhuận nếu chúng cũng chia hết cho 400\n",
    "if nam % 400 == 0:\n",
    "    la_nam_nhuan = True\n",
    "# chia hết cho 4 được và không chia hết cho 100 được coi là năm nhuận\n",
    "elif nam % 4 == 0 and nam % 100 != 0:\n",
    "    la_nam_nhuan = True\n",
    "    \n",
    "# In ra năm đó có nhuận hay không\n",
    "print(nam, \"là năm nhuận\" if la_nam_nhuan else \"là năm thường\")\n",
    "\n",
    "so_ngay = 0\n",
    "if thang in [1, 3, 5, 7, 8, 10, 12]:\n",
    "    so_ngay = 31\n",
    "elif thang in [4, 6, 9, 11]:\n",
    "    so_ngay = 30\n",
    "else:\n",
    "    so_ngay = 29 if la_nam_nhuan else 28\n",
    "\n",
    "print(f\"{thang}/{nam} có {so_ngay} ngày.\")"
   ]
  }
 ],
 "metadata": {
  "kernelspec": {
   "display_name": "Python 3 (ipykernel)",
   "language": "python",
   "name": "python3"
  },
  "language_info": {
   "codemirror_mode": {
    "name": "ipython",
    "version": 3
   },
   "file_extension": ".py",
   "mimetype": "text/x-python",
   "name": "python",
   "nbconvert_exporter": "python",
   "pygments_lexer": "ipython3",
   "version": "3.10.7"
  }
 },
 "nbformat": 4,
 "nbformat_minor": 5
}
